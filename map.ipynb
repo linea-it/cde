{
 "cells": [
  {
   "cell_type": "code",
   "execution_count": null,
   "metadata": {},
   "outputs": [],
   "source": [
    "import matplotlib.pyplot as plt\n",
    "import pandas as pd\n",
    "import seaborn as sns\n",
    "import folium\n",
    "\n",
    "%matplotlib inline"
   ]
  },
  {
   "cell_type": "code",
   "execution_count": null,
   "metadata": {},
   "outputs": [],
   "source": [
    "rj = [-22.9068, -43.1729]"
   ]
  },
  {
   "cell_type": "code",
   "execution_count": null,
   "metadata": {},
   "outputs": [],
   "source": [
    "alunos = pd.read_csv(\"alunos.csv\")\n",
    "#alunos.astype('str')\n",
    "alunos.head()"
   ]
  },
  {
   "cell_type": "code",
   "execution_count": null,
   "metadata": {},
   "outputs": [],
   "source": [
    "#cursos = alunos.groupby('Área').size().plot(kind='pie', fontsize=16)\n",
    "alunos[\"Curso\"].value_counts().plot(kind='pie', fontsize=16)\n",
    "plt.ylabel(\"\")\n",
    "plt.tight_layout()\n",
    "plt.savefig(\"cursos_all.png\")"
   ]
  },
  {
   "cell_type": "code",
   "execution_count": null,
   "metadata": {},
   "outputs": [],
   "source": [
    "alunos[\"Curso\"].value_counts()\n"
   ]
  },
  {
   "cell_type": "code",
   "execution_count": null,
   "metadata": {},
   "outputs": [],
   "source": [
    "#cursos = alunos.groupby('Área').size().plot(kind='pie', fontsize=16)\n",
    "alunos[\"Curso\"][alunos[\"Curso\"]!= \"JN\"].value_counts().plot(kind='pie', fontsize=16)\n",
    "plt.ylabel(\"\")\n",
    "plt.tight_layout()\n",
    "plt.savefig(\"cursos_ss.png\")"
   ]
  },
  {
   "cell_type": "code",
   "execution_count": null,
   "metadata": {},
   "outputs": [],
   "source": [
    "alunos[\"Área\"][alunos[\"Curso\"]!= \"JN\"].value_counts()"
   ]
  },
  {
   "cell_type": "code",
   "execution_count": null,
   "metadata": {},
   "outputs": [],
   "source": [
    "#cursos = alunos.groupby('Área').size().plot(kind='pie', fontsize=16)\n",
    "alunos[\"Área\"][alunos[\"Curso\"]!= \"SS\"].value_counts().plot(kind='pie', fontsize=16)\n",
    "plt.ylabel(\"\")\n",
    "plt.tight_layout()\n",
    "plt.savefig(\"cursos_jn.png\")"
   ]
  },
  {
   "cell_type": "code",
   "execution_count": null,
   "metadata": {},
   "outputs": [],
   "source": [
    "alunos[\"Área\"][alunos[\"Curso\"]!= \"SS\"].value_counts()"
   ]
  },
  {
   "cell_type": "code",
   "execution_count": null,
   "metadata": {},
   "outputs": [],
   "source": [
    "alunos[\"Sexo\"].map({\"F\":\"Mulheres\", \"M\":\"Homens\"}).value_counts().plot(kind='pie', fontsize=16)\n",
    "plt.ylabel(\"\")\n",
    "plt.tight_layout()\n",
    "plt.savefig(\"sexo_all.png\")"
   ]
  },
  {
   "cell_type": "code",
   "execution_count": null,
   "metadata": {},
   "outputs": [],
   "source": [
    "alunos[\"Minicurso\"].map({\"JN\":\"apenas\\nJupyter Notebook\", \"SS\":\"apenas\\nScience Server\", \"2\":\"Ambos\"}).value_counts().plot(kind='pie', fontsize=16)\n",
    "plt.ylabel(\"\")\n",
    "plt.tight_layout()\n",
    "plt.savefig(\"minicurso_all.png\")"
   ]
  },
  {
   "cell_type": "code",
   "execution_count": null,
   "metadata": {},
   "outputs": [],
   "source": [
    "alunos[\"Minicurso\"].value_counts()\n"
   ]
  },
  {
   "cell_type": "code",
   "execution_count": null,
   "metadata": {},
   "outputs": [],
   "source": [
    "alunos[\"Sexo\"].map({\"F\":\"Mulheres\", \"M\":\"Homens\"}).value_counts()"
   ]
  },
  {
   "cell_type": "code",
   "execution_count": null,
   "metadata": {},
   "outputs": [],
   "source": [
    "alunos[\"Sexo\"][alunos[\"Curso\"]!= \"JN\"].map({\"F\":\"Mulheres\", \"M\":\"Homens\"}).value_counts().plot(kind='pie', fontsize=16)\n",
    "plt.ylabel(\"\")\n",
    "plt.savefig(\"sexo_ss.png\")"
   ]
  },
  {
   "cell_type": "code",
   "execution_count": null,
   "metadata": {},
   "outputs": [],
   "source": [
    "alunos[\"Sexo\"][alunos[\"Curso\"]!= \"JN\"].map({\"F\":\"Mulheres\", \"M\":\"Homens\"}).value_counts()"
   ]
  },
  {
   "cell_type": "code",
   "execution_count": null,
   "metadata": {},
   "outputs": [],
   "source": [
    "alunos[\"Sexo\"][alunos[\"Curso\"]!= \"SS\"].map({\"F\":\"Mulheres\", \"M\":\"Homens\"}).value_counts().plot(kind='pie', fontsize=16)\n",
    "plt.ylabel(\"\")\n",
    "plt.tight_layout()\n",
    "plt.savefig(\"sexo_jn.png\")"
   ]
  },
  {
   "cell_type": "code",
   "execution_count": null,
   "metadata": {},
   "outputs": [],
   "source": [
    "alunos[\"Sexo\"][alunos[\"Curso\"]!= \"SS\"].map({\"F\":\"Mulheres\", \"M\":\"Homens\"}).value_counts()"
   ]
  },
  {
   "cell_type": "code",
   "execution_count": null,
   "metadata": {},
   "outputs": [],
   "source": [
    "alunos[\"Sexo\"][alunos[\"Curso\"]!= \"SS\"].value_counts().plot(kind='bar', fontsize=16)\n",
    "plt.ylabel(\"\")\n",
    "plt.tight_layout()\n",
    "plt.savefig(\"sexo_jn_bar.png\")"
   ]
  },
  {
   "cell_type": "code",
   "execution_count": null,
   "metadata": {},
   "outputs": [],
   "source": [
    "#alunos['Período'].value_counts().plot(kind='bar')\n",
    "alunos.groupby('Período').size().plot(kind='bar', fontsize=16)\n",
    "plt.xlabel(\"Período\", fontsize=16)\n",
    "plt.xticks(rotation=0)\n",
    "plt.tight_layout()\n",
    "plt.savefig(\"periodo_all.png\")"
   ]
  },
  {
   "cell_type": "code",
   "execution_count": null,
   "metadata": {},
   "outputs": [],
   "source": [
    "#alunos['Período'].value_counts().plot(kind='bar')\n",
    "alunos[alunos[\"Curso\"]!= \"JN\"].groupby('Período').size().plot(kind='bar', fontsize=16)\n",
    "plt.xlabel(\"Período\", fontsize=16)\n",
    "plt.xticks(rotation=0)\n",
    "plt.tight_layout()\n",
    "plt.savefig(\"periodo_ss.png\")"
   ]
  },
  {
   "cell_type": "code",
   "execution_count": null,
   "metadata": {},
   "outputs": [],
   "source": [
    "#alunos['Período'].value_counts().plot(kind='bar')\n",
    "alunos[alunos[\"Curso\"]!= \"SS\"].groupby('Período').size().plot(kind='bar', fontsize=16)\n",
    "plt.xlabel(\"Período\", fontsize=16)\n",
    "plt.xticks(rotation=0)\n",
    "plt.tight_layout()\n",
    "plt.savefig(\"periodo_jn.png\")"
   ]
  },
  {
   "cell_type": "code",
   "execution_count": null,
   "metadata": {},
   "outputs": [],
   "source": [
    "alunos.groupby('UF').size().plot(kind='pie', fontsize=16)#, colormap=\"prism\")\n",
    "plt.ylabel(\"\")\n",
    "plt.savefig(\"uf_all.png\")"
   ]
  },
  {
   "cell_type": "code",
   "execution_count": null,
   "metadata": {},
   "outputs": [],
   "source": [
    "alunos.groupby('UF').size()"
   ]
  },
  {
   "cell_type": "code",
   "execution_count": null,
   "metadata": {},
   "outputs": [],
   "source": [
    "alunos[alunos[\"Curso\"]!= \"JN\"].groupby('UF').size().plot(kind='pie', fontsize=16)\n",
    "plt.ylabel(\"\")\n",
    "plt.savefig(\"uf_ss.png\")"
   ]
  },
  {
   "cell_type": "code",
   "execution_count": null,
   "metadata": {},
   "outputs": [],
   "source": [
    "alunos[\"UF\"][alunos[\"Curso\"]!= \"SS\"].value_counts().plot(kind='pie', fontsize=16)\n",
    "#alunos[alunos[\"Curso\"]!= \"SS\"].groupby('UF').size().plot(kind='pie', fontsize=16)\n",
    "plt.ylabel(\"\")\n",
    "plt.savefig(\"uf_jn.png\")"
   ]
  },
  {
   "cell_type": "code",
   "execution_count": null,
   "metadata": {},
   "outputs": [],
   "source": [
    "alunos[alunos[\"Curso\"]!= \"SS\"].groupby('UF').size().plot(kind='bar', fontsize=16, colormap='jet')\n",
    "plt.xlabel(\"\")\n",
    "plt.ylabel(\"\")\n",
    "plt.xticks(rotation=0)\n",
    "#plt.savefig(\"uf_jn.png\")"
   ]
  },
  {
   "cell_type": "code",
   "execution_count": null,
   "metadata": {},
   "outputs": [],
   "source": [
    "estados = pd.read_csv(\"../Municipios-Brasileiros/csv/estados.csv\")"
   ]
  },
  {
   "cell_type": "code",
   "execution_count": null,
   "metadata": {},
   "outputs": [],
   "source": [
    "estados.columns"
   ]
  },
  {
   "cell_type": "code",
   "execution_count": null,
   "metadata": {},
   "outputs": [],
   "source": [
    "estados.rename(columns={\"uf\":\"UF\", \"nome\":\"Estado\"}, inplace=True)\n",
    "estados"
   ]
  },
  {
   "cell_type": "code",
   "execution_count": null,
   "metadata": {},
   "outputs": [],
   "source": [
    "alunos = pd.merge(alunos, estados, on=\"UF\")"
   ]
  },
  {
   "cell_type": "code",
   "execution_count": null,
   "metadata": {},
   "outputs": [],
   "source": [
    "alunos"
   ]
  },
  {
   "cell_type": "code",
   "execution_count": null,
   "metadata": {},
   "outputs": [],
   "source": [
    "m = folium.Map(location=rj, zoom_start=5, tiles=\"Stamen Terrain\")\n",
    "for index, row in alunos.iterrows():\n",
    "    folium.Marker(location=[row.latitude, row.longitude]).add_to(m)"
   ]
  },
  {
   "cell_type": "code",
   "execution_count": null,
   "metadata": {},
   "outputs": [],
   "source": [
    "m"
   ]
  },
  {
   "cell_type": "code",
   "execution_count": null,
   "metadata": {},
   "outputs": [],
   "source": []
  },
  {
   "cell_type": "code",
   "execution_count": null,
   "metadata": {},
   "outputs": [],
   "source": []
  },
  {
   "cell_type": "code",
   "execution_count": null,
   "metadata": {},
   "outputs": [],
   "source": []
  },
  {
   "cell_type": "code",
   "execution_count": null,
   "metadata": {},
   "outputs": [],
   "source": [
    "alunos[\"UF\"].value_counts()"
   ]
  },
  {
   "cell_type": "code",
   "execution_count": null,
   "metadata": {},
   "outputs": [],
   "source": []
  },
  {
   "cell_type": "code",
   "execution_count": null,
   "metadata": {},
   "outputs": [],
   "source": [
    "for i in alunos[\"UF\"].value_counts():\n",
    "    print(i)#, alunos[index][\"UF\"]])"
   ]
  },
  {
   "cell_type": "code",
   "execution_count": null,
   "metadata": {},
   "outputs": [],
   "source": [
    "coord = [alunos.loc[0]['latitude'], alunos.loc[0]['longitude']]"
   ]
  },
  {
   "cell_type": "code",
   "execution_count": null,
   "metadata": {},
   "outputs": [],
   "source": []
  }
 ],
 "metadata": {
  "kernelspec": {
   "display_name": "Python 3 (ipykernel)",
   "language": "python",
   "name": "python3"
  },
  "language_info": {
   "codemirror_mode": {
    "name": "ipython",
    "version": 3
   },
   "file_extension": ".py",
   "mimetype": "text/x-python",
   "name": "python",
   "nbconvert_exporter": "python",
   "pygments_lexer": "ipython3",
   "version": "3.11.5"
  }
 },
 "nbformat": 4,
 "nbformat_minor": 4
}
